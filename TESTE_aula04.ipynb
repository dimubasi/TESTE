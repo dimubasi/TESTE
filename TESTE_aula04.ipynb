{
  "nbformat": 4,
  "nbformat_minor": 0,
  "metadata": {
    "colab": {
      "provenance": [],
      "authorship_tag": "ABX9TyMOQPLjwSrscxW7TJaYINwG",
      "include_colab_link": true
    },
    "kernelspec": {
      "name": "python3",
      "display_name": "Python 3"
    },
    "language_info": {
      "name": "python"
    }
  },
  "cells": [
    {
      "cell_type": "markdown",
      "metadata": {
        "id": "view-in-github",
        "colab_type": "text"
      },
      "source": [
        "<a href=\"https://colab.research.google.com/github/dimubasi/TESTE/blob/main/TESTE_aula04.ipynb\" target=\"_parent\"><img src=\"https://colab.research.google.com/assets/colab-badge.svg\" alt=\"Open In Colab\"/></a>"
      ]
    },
    {
      "cell_type": "markdown",
      "source": [
        "Instalando SDK do Google"
      ],
      "metadata": {
        "id": "LKHMSLd9Vnk8"
      }
    },
    {
      "cell_type": "code",
      "execution_count": 1,
      "metadata": {
        "id": "8eO_xrdxUZwo"
      },
      "outputs": [],
      "source": [
        "!pip install -q -U google-generativeai"
      ]
    },
    {
      "cell_type": "code",
      "source": [
        "# Import the Python SDK\n",
        "import google.generativeai as genai\n",
        "from google.colab import userdata\n",
        "API_KEY = userdata.get(\"SECRET_KEY\")\n",
        "\n",
        "GOOGLE_API_KEY='digitar aqui sua APIKEY'\n",
        "genai.configure(api_key=API_KEY)"
      ],
      "metadata": {
        "id": "q6rbVLvyV-Sf"
      },
      "execution_count": 24,
      "outputs": []
    },
    {
      "cell_type": "code",
      "source": [
        "for m in genai.list_models():\n",
        "  if 'generateContent' in m.supported_generation_methods:\n",
        "    print(m.name)"
      ],
      "metadata": {
        "colab": {
          "base_uri": "https://localhost:8080/",
          "height": 139
        },
        "id": "AV49gAYaXxJ3",
        "outputId": "78b626f5-5bf3-42ee-8f3e-6c4955d1f0ed"
      },
      "execution_count": 3,
      "outputs": [
        {
          "output_type": "stream",
          "name": "stdout",
          "text": [
            "models/gemini-1.0-pro\n",
            "models/gemini-1.0-pro-001\n",
            "models/gemini-1.0-pro-latest\n",
            "models/gemini-1.0-pro-vision-latest\n",
            "models/gemini-1.5-pro-latest\n",
            "models/gemini-pro\n",
            "models/gemini-pro-vision\n"
          ]
        }
      ]
    },
    {
      "cell_type": "code",
      "source": [
        "generation_config = {\n",
        "    \"candidate_count\": 1,\n",
        "    \"temperature\": 0.5,\n",
        "}"
      ],
      "metadata": {
        "id": "PVmswlODY22X"
      },
      "execution_count": 4,
      "outputs": []
    },
    {
      "cell_type": "code",
      "source": [
        "safety_settings = {\n",
        "    \"Harassment\" : \"BLOCK_NONE\",\n",
        "    \"Hate\": \"BLOCK_NONE\",\n",
        "    \"Sexual\": \"BLOCK_NONE\",\n",
        "    \"Dangerous\": \"BLOCK_NONE\",\n",
        "}"
      ],
      "metadata": {
        "id": "X93vwhpwZWA9"
      },
      "execution_count": 13,
      "outputs": []
    },
    {
      "cell_type": "markdown",
      "source": [
        "Inicializando o Modelo"
      ],
      "metadata": {
        "id": "VwP7wSuSaO8O"
      }
    },
    {
      "cell_type": "code",
      "source": [
        "model = genai.GenerativeModel(model_name=\"gemini-1.0-pro\",\n",
        "                              generation_config=generation_config,\n",
        "                              safety_settings=safety_settings\n",
        "                              )"
      ],
      "metadata": {
        "id": "DTBpb23OaTL9"
      },
      "execution_count": 14,
      "outputs": []
    },
    {
      "cell_type": "code",
      "source": [
        "response = model.generate_content(\"Vamos aprender  contúdo sobre IA. Me dê sugestões.\")\n",
        "print(response.text)"
      ],
      "metadata": {
        "colab": {
          "base_uri": "https://localhost:8080/",
          "height": 781
        },
        "id": "w3J5JPKYdI07",
        "outputId": "30916ea0-313a-46ac-911a-7bf437cfc698"
      },
      "execution_count": 17,
      "outputs": [
        {
          "output_type": "stream",
          "name": "stdout",
          "text": [
            "**Conceitos Fundamentais:**\n",
            "\n",
            "* Definição e história da Inteligência Artificial (IA)\n",
            "* Tipos de IA: Aprendizado de Máquina, Aprendizado Profundo, Processamento de Linguagem Natural\n",
            "* Algoritmos e técnicas de IA\n",
            "\n",
            "**Aprendizado de Máquina:**\n",
            "\n",
            "* Tipos de aprendizado: Supervisionado, Não Supervisionado, por Reforço\n",
            "* Modelos de aprendizado de máquina: Regressão, Classificação, Clustering\n",
            "* Avaliação de modelos de aprendizado de máquina\n",
            "\n",
            "**Aprendizado Profundo:**\n",
            "\n",
            "* Redes Neurais: Arquiteturas, Treinamento, Aplicações\n",
            "* Convoluções e Redes Neurais Convolucionais (CNNs)\n",
            "* Redes Neurais Recorrentes (RNNs) e Redes Neurais de Memória de Longo Prazo (LSTMs)\n",
            "\n",
            "**Processamento de Linguagem Natural (PNL):**\n",
            "\n",
            "* Representação de texto: Vetores de Palavras, Embeddings\n",
            "* Modelos de PNL: Análise de Sentimento, Reconhecimento de Entidades Nomeadas\n",
            "* Geração de Linguagem Natural\n",
            "\n",
            "**Aplicações de IA:**\n",
            "\n",
            "* Visão Computacional: Reconhecimento de Imagem, Detecção de Objetos\n",
            "* Processamento de Linguagem Natural: Tradução Automática, Resumo de Texto\n",
            "* Cuidados de Saúde: Diagnóstico, Previsão de Risco\n",
            "* Finanças: Detecção de Fraudes, Negociação Algorítmica\n",
            "* Transporte: Veículos Autônomos, Otimização de Rotas\n",
            "\n",
            "**Ética e Implicações Sociais da IA:**\n",
            "\n",
            "* Preconceito e Discriminação em Sistemas de IA\n",
            "* Perda de Empregos devido à Automação\n",
            "* Responsabilidade e Regulamentação da IA\n",
            "\n",
            "**Recursos de Aprendizagem:**\n",
            "\n",
            "* Cursos online: Coursera, edX, Udemy\n",
            "* Tutoriais e documentação: TensorFlow, PyTorch, Keras\n",
            "* Livros: \"Inteligência Artificial: Uma Abordagem Moderna\", \"Aprendizado de Máquina\"\n",
            "* Comunidades online: Stack Overflow, Reddit\n"
          ]
        }
      ]
    },
    {
      "cell_type": "code",
      "source": [
        "chat = model.start_chat(history=[])"
      ],
      "metadata": {
        "id": "25ENnTVKeFVJ"
      },
      "execution_count": 18,
      "outputs": []
    },
    {
      "cell_type": "code",
      "source": [
        "prompt = input(\"Esperando prompt:\")\n",
        "while prompt != \"Fim\":\n",
        "  response = chat.send_message(prompt)\n",
        "  print(\"Resposta: \", response.text, \"\\n\")\n",
        "  prompt = input(\"Esperando prompt:\")"
      ],
      "metadata": {
        "colab": {
          "base_uri": "https://localhost:8080/",
          "height": 86
        },
        "id": "Qta7EQjeech8",
        "outputId": "e73bc225-0fd9-4e0e-9ecb-fa84934bb3f0"
      },
      "execution_count": 25,
      "outputs": [
        {
          "name": "stdout",
          "output_type": "stream",
          "text": [
            "Esperando prompt:FIM\n",
            "Resposta:  Obrigado por usar nossos serviços. Estou sempre aqui se precisar de mais alguma coisa. \n",
            "\n",
            "Esperando prompt:Fim\n"
          ]
        }
      ]
    }
  ]
}